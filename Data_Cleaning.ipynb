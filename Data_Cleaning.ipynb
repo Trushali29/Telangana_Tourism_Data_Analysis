{
 "cells": [
  {
   "cell_type": "code",
   "execution_count": 1,
   "metadata": {},
   "outputs": [],
   "source": [
    "import pandas as pd \n",
    "import numpy as np \n",
    "import glob\n",
    "import matplotlib.pyplot as plt\n",
    "import seaborn as sns"
   ]
  },
  {
   "cell_type": "markdown",
   "metadata": {},
   "source": [
    "Clean all the files and combine them into a single csv file as domestic_visitors and foreign_visitors"
   ]
  },
  {
   "cell_type": "code",
   "execution_count": 2,
   "metadata": {},
   "outputs": [
    {
     "data": {
      "text/html": [
       "<div>\n",
       "<style scoped>\n",
       "    .dataframe tbody tr th:only-of-type {\n",
       "        vertical-align: middle;\n",
       "    }\n",
       "\n",
       "    .dataframe tbody tr th {\n",
       "        vertical-align: top;\n",
       "    }\n",
       "\n",
       "    .dataframe thead th {\n",
       "        text-align: right;\n",
       "    }\n",
       "</style>\n",
       "<table border=\"1\" class=\"dataframe\">\n",
       "  <thead>\n",
       "    <tr style=\"text-align: right;\">\n",
       "      <th></th>\n",
       "      <th>district</th>\n",
       "      <th>date</th>\n",
       "      <th>month</th>\n",
       "      <th>year</th>\n",
       "      <th>visitors</th>\n",
       "    </tr>\n",
       "  </thead>\n",
       "  <tbody>\n",
       "    <tr>\n",
       "      <th>0</th>\n",
       "      <td>Adilabad</td>\n",
       "      <td>01-01-2016</td>\n",
       "      <td>January</td>\n",
       "      <td>2016</td>\n",
       "      <td>792136</td>\n",
       "    </tr>\n",
       "    <tr>\n",
       "      <th>1</th>\n",
       "      <td>Adilabad</td>\n",
       "      <td>01-02-2016</td>\n",
       "      <td>February</td>\n",
       "      <td>2016</td>\n",
       "      <td>937820</td>\n",
       "    </tr>\n",
       "    <tr>\n",
       "      <th>2</th>\n",
       "      <td>Adilabad</td>\n",
       "      <td>01-03-2016</td>\n",
       "      <td>March</td>\n",
       "      <td>2016</td>\n",
       "      <td>582946</td>\n",
       "    </tr>\n",
       "    <tr>\n",
       "      <th>3</th>\n",
       "      <td>Adilabad</td>\n",
       "      <td>01-04-2016</td>\n",
       "      <td>April</td>\n",
       "      <td>2016</td>\n",
       "      <td>341948</td>\n",
       "    </tr>\n",
       "    <tr>\n",
       "      <th>4</th>\n",
       "      <td>Adilabad</td>\n",
       "      <td>01-05-2016</td>\n",
       "      <td>May</td>\n",
       "      <td>2016</td>\n",
       "      <td>252887</td>\n",
       "    </tr>\n",
       "    <tr>\n",
       "      <th>5</th>\n",
       "      <td>Adilabad</td>\n",
       "      <td>01-06-2016</td>\n",
       "      <td>June</td>\n",
       "      <td>2016</td>\n",
       "      <td>368237</td>\n",
       "    </tr>\n",
       "    <tr>\n",
       "      <th>6</th>\n",
       "      <td>Adilabad</td>\n",
       "      <td>01-07-2016</td>\n",
       "      <td>July</td>\n",
       "      <td>2016</td>\n",
       "      <td>447562</td>\n",
       "    </tr>\n",
       "    <tr>\n",
       "      <th>7</th>\n",
       "      <td>Adilabad</td>\n",
       "      <td>01-08-2016</td>\n",
       "      <td>August</td>\n",
       "      <td>2016</td>\n",
       "      <td>614285</td>\n",
       "    </tr>\n",
       "    <tr>\n",
       "      <th>8</th>\n",
       "      <td>Adilabad</td>\n",
       "      <td>01-09-2016</td>\n",
       "      <td>September</td>\n",
       "      <td>2016</td>\n",
       "      <td>491279</td>\n",
       "    </tr>\n",
       "    <tr>\n",
       "      <th>9</th>\n",
       "      <td>Adilabad</td>\n",
       "      <td>01-10-2016</td>\n",
       "      <td>October</td>\n",
       "      <td>2016</td>\n",
       "      <td>94184</td>\n",
       "    </tr>\n",
       "    <tr>\n",
       "      <th>10</th>\n",
       "      <td>Adilabad</td>\n",
       "      <td>01-11-2016</td>\n",
       "      <td>November</td>\n",
       "      <td>2016</td>\n",
       "      <td>99148</td>\n",
       "    </tr>\n",
       "    <tr>\n",
       "      <th>11</th>\n",
       "      <td>Adilabad</td>\n",
       "      <td>01-12-2016</td>\n",
       "      <td>December</td>\n",
       "      <td>2016</td>\n",
       "      <td>53125</td>\n",
       "    </tr>\n",
       "    <tr>\n",
       "      <th>12</th>\n",
       "      <td>Bhadradri Kothagudem</td>\n",
       "      <td>01-01-2016</td>\n",
       "      <td>January</td>\n",
       "      <td>2016</td>\n",
       "      <td></td>\n",
       "    </tr>\n",
       "    <tr>\n",
       "      <th>13</th>\n",
       "      <td>Bhadradri Kothagudem</td>\n",
       "      <td>01-02-2016</td>\n",
       "      <td>February</td>\n",
       "      <td>2016</td>\n",
       "      <td></td>\n",
       "    </tr>\n",
       "    <tr>\n",
       "      <th>14</th>\n",
       "      <td>Bhadradri Kothagudem</td>\n",
       "      <td>01-03-2016</td>\n",
       "      <td>March</td>\n",
       "      <td>2016</td>\n",
       "      <td></td>\n",
       "    </tr>\n",
       "    <tr>\n",
       "      <th>15</th>\n",
       "      <td>Bhadradri Kothagudem</td>\n",
       "      <td>01-04-2016</td>\n",
       "      <td>April</td>\n",
       "      <td>2016</td>\n",
       "      <td></td>\n",
       "    </tr>\n",
       "    <tr>\n",
       "      <th>16</th>\n",
       "      <td>Bhadradri Kothagudem</td>\n",
       "      <td>01-05-2016</td>\n",
       "      <td>May</td>\n",
       "      <td>2016</td>\n",
       "      <td></td>\n",
       "    </tr>\n",
       "    <tr>\n",
       "      <th>17</th>\n",
       "      <td>Bhadradri Kothagudem</td>\n",
       "      <td>01-06-2016</td>\n",
       "      <td>June</td>\n",
       "      <td>2016</td>\n",
       "      <td></td>\n",
       "    </tr>\n",
       "    <tr>\n",
       "      <th>18</th>\n",
       "      <td>Bhadradri Kothagudem</td>\n",
       "      <td>01-07-2016</td>\n",
       "      <td>July</td>\n",
       "      <td>2016</td>\n",
       "      <td></td>\n",
       "    </tr>\n",
       "    <tr>\n",
       "      <th>19</th>\n",
       "      <td>Bhadradri Kothagudem</td>\n",
       "      <td>01-08-2016</td>\n",
       "      <td>August</td>\n",
       "      <td>2016</td>\n",
       "      <td></td>\n",
       "    </tr>\n",
       "    <tr>\n",
       "      <th>20</th>\n",
       "      <td>Bhadradri Kothagudem</td>\n",
       "      <td>01-09-2016</td>\n",
       "      <td>September</td>\n",
       "      <td>2016</td>\n",
       "      <td></td>\n",
       "    </tr>\n",
       "    <tr>\n",
       "      <th>21</th>\n",
       "      <td>Bhadradri Kothagudem</td>\n",
       "      <td>01-10-2016</td>\n",
       "      <td>October</td>\n",
       "      <td>2016</td>\n",
       "      <td>310133</td>\n",
       "    </tr>\n",
       "    <tr>\n",
       "      <th>22</th>\n",
       "      <td>Bhadradri Kothagudem</td>\n",
       "      <td>01-11-2016</td>\n",
       "      <td>November</td>\n",
       "      <td>2016</td>\n",
       "      <td>252127</td>\n",
       "    </tr>\n",
       "    <tr>\n",
       "      <th>23</th>\n",
       "      <td>Bhadradri Kothagudem</td>\n",
       "      <td>01-12-2016</td>\n",
       "      <td>December</td>\n",
       "      <td>2016</td>\n",
       "      <td>326770</td>\n",
       "    </tr>\n",
       "    <tr>\n",
       "      <th>24</th>\n",
       "      <td>Hyderabad</td>\n",
       "      <td>01-01-2016</td>\n",
       "      <td>January</td>\n",
       "      <td>2016</td>\n",
       "      <td>1122510</td>\n",
       "    </tr>\n",
       "    <tr>\n",
       "      <th>25</th>\n",
       "      <td>Hyderabad</td>\n",
       "      <td>01-02-2016</td>\n",
       "      <td>February</td>\n",
       "      <td>2016</td>\n",
       "      <td>778748</td>\n",
       "    </tr>\n",
       "    <tr>\n",
       "      <th>26</th>\n",
       "      <td>Hyderabad</td>\n",
       "      <td>01-03-2016</td>\n",
       "      <td>March</td>\n",
       "      <td>2016</td>\n",
       "      <td>1017794</td>\n",
       "    </tr>\n",
       "    <tr>\n",
       "      <th>27</th>\n",
       "      <td>Hyderabad</td>\n",
       "      <td>01-04-2016</td>\n",
       "      <td>April</td>\n",
       "      <td>2016</td>\n",
       "      <td>1127738</td>\n",
       "    </tr>\n",
       "    <tr>\n",
       "      <th>28</th>\n",
       "      <td>Hyderabad</td>\n",
       "      <td>01-05-2016</td>\n",
       "      <td>May</td>\n",
       "      <td>2016</td>\n",
       "      <td>1287181</td>\n",
       "    </tr>\n",
       "    <tr>\n",
       "      <th>29</th>\n",
       "      <td>Hyderabad</td>\n",
       "      <td>01-06-2016</td>\n",
       "      <td>June</td>\n",
       "      <td>2016</td>\n",
       "      <td>12032661</td>\n",
       "    </tr>\n",
       "  </tbody>\n",
       "</table>\n",
       "</div>"
      ],
      "text/plain": [
       "                 district        date      month  year  visitors\n",
       "0                Adilabad  01-01-2016    January  2016    792136\n",
       "1                Adilabad  01-02-2016   February  2016    937820\n",
       "2                Adilabad  01-03-2016      March  2016    582946\n",
       "3                Adilabad  01-04-2016      April  2016    341948\n",
       "4                Adilabad  01-05-2016        May  2016    252887\n",
       "5                Adilabad  01-06-2016       June  2016    368237\n",
       "6                Adilabad  01-07-2016       July  2016    447562\n",
       "7                Adilabad  01-08-2016     August  2016    614285\n",
       "8                Adilabad  01-09-2016  September  2016    491279\n",
       "9                Adilabad  01-10-2016    October  2016     94184\n",
       "10               Adilabad  01-11-2016   November  2016     99148\n",
       "11               Adilabad  01-12-2016   December  2016     53125\n",
       "12  Bhadradri Kothagudem   01-01-2016    January  2016          \n",
       "13  Bhadradri Kothagudem   01-02-2016   February  2016          \n",
       "14  Bhadradri Kothagudem   01-03-2016      March  2016          \n",
       "15  Bhadradri Kothagudem   01-04-2016      April  2016          \n",
       "16  Bhadradri Kothagudem   01-05-2016        May  2016          \n",
       "17  Bhadradri Kothagudem   01-06-2016       June  2016          \n",
       "18  Bhadradri Kothagudem   01-07-2016       July  2016          \n",
       "19  Bhadradri Kothagudem   01-08-2016     August  2016          \n",
       "20  Bhadradri Kothagudem   01-09-2016  September  2016          \n",
       "21  Bhadradri Kothagudem   01-10-2016    October  2016    310133\n",
       "22  Bhadradri Kothagudem   01-11-2016   November  2016    252127\n",
       "23  Bhadradri Kothagudem   01-12-2016   December  2016    326770\n",
       "24              Hyderabad  01-01-2016    January  2016   1122510\n",
       "25              Hyderabad  01-02-2016   February  2016    778748\n",
       "26              Hyderabad  01-03-2016      March  2016   1017794\n",
       "27              Hyderabad  01-04-2016      April  2016   1127738\n",
       "28              Hyderabad  01-05-2016        May  2016   1287181\n",
       "29              Hyderabad  01-06-2016       June  2016  12032661"
      ]
     },
     "execution_count": 2,
     "metadata": {},
     "output_type": "execute_result"
    }
   ],
   "source": [
    "domestic_visitors_2016 = pd.read_csv('domestic_visitors/domestic_visitors_2016.csv')\n",
    "domestic_visitors_2016.head(30)"
   ]
  },
  {
   "cell_type": "code",
   "execution_count": 3,
   "metadata": {},
   "outputs": [
    {
     "name": "stdout",
     "output_type": "stream",
     "text": [
      "<class 'pandas.core.frame.DataFrame'>\n",
      "RangeIndex: 372 entries, 0 to 371\n",
      "Data columns (total 5 columns):\n",
      " #   Column    Non-Null Count  Dtype \n",
      "---  ------    --------------  ----- \n",
      " 0   district  372 non-null    object\n",
      " 1   date      372 non-null    object\n",
      " 2   month     372 non-null    object\n",
      " 3   year      372 non-null    int64 \n",
      " 4   visitors  372 non-null    object\n",
      "dtypes: int64(1), object(4)\n",
      "memory usage: 14.7+ KB\n"
     ]
    }
   ],
   "source": [
    "domestic_visitors_2016.info()"
   ]
  },
  {
   "cell_type": "code",
   "execution_count": 4,
   "metadata": {},
   "outputs": [
    {
     "data": {
      "text/html": [
       "<div>\n",
       "<style scoped>\n",
       "    .dataframe tbody tr th:only-of-type {\n",
       "        vertical-align: middle;\n",
       "    }\n",
       "\n",
       "    .dataframe tbody tr th {\n",
       "        vertical-align: top;\n",
       "    }\n",
       "\n",
       "    .dataframe thead th {\n",
       "        text-align: right;\n",
       "    }\n",
       "</style>\n",
       "<table border=\"1\" class=\"dataframe\">\n",
       "  <thead>\n",
       "    <tr style=\"text-align: right;\">\n",
       "      <th></th>\n",
       "      <th>year</th>\n",
       "    </tr>\n",
       "  </thead>\n",
       "  <tbody>\n",
       "    <tr>\n",
       "      <th>count</th>\n",
       "      <td>372.0</td>\n",
       "    </tr>\n",
       "    <tr>\n",
       "      <th>mean</th>\n",
       "      <td>2016.0</td>\n",
       "    </tr>\n",
       "    <tr>\n",
       "      <th>std</th>\n",
       "      <td>0.0</td>\n",
       "    </tr>\n",
       "    <tr>\n",
       "      <th>min</th>\n",
       "      <td>2016.0</td>\n",
       "    </tr>\n",
       "    <tr>\n",
       "      <th>25%</th>\n",
       "      <td>2016.0</td>\n",
       "    </tr>\n",
       "    <tr>\n",
       "      <th>50%</th>\n",
       "      <td>2016.0</td>\n",
       "    </tr>\n",
       "    <tr>\n",
       "      <th>75%</th>\n",
       "      <td>2016.0</td>\n",
       "    </tr>\n",
       "    <tr>\n",
       "      <th>max</th>\n",
       "      <td>2016.0</td>\n",
       "    </tr>\n",
       "  </tbody>\n",
       "</table>\n",
       "</div>"
      ],
      "text/plain": [
       "         year\n",
       "count   372.0\n",
       "mean   2016.0\n",
       "std       0.0\n",
       "min    2016.0\n",
       "25%    2016.0\n",
       "50%    2016.0\n",
       "75%    2016.0\n",
       "max    2016.0"
      ]
     },
     "execution_count": 4,
     "metadata": {},
     "output_type": "execute_result"
    }
   ],
   "source": [
    "domestic_visitors_2016.describe()"
   ]
  },
  {
   "cell_type": "code",
   "execution_count": 5,
   "metadata": {},
   "outputs": [
    {
     "data": {
      "text/plain": [
       "district    207\n",
       "date        207\n",
       "month       207\n",
       "year        207\n",
       "visitors    207\n",
       "dtype: int64"
      ]
     },
     "execution_count": 5,
     "metadata": {},
     "output_type": "execute_result"
    }
   ],
   "source": [
    "domestic_visitors_2016[domestic_visitors_2016['visitors'] == ' '].count()"
   ]
  },
  {
   "cell_type": "markdown",
   "metadata": {},
   "source": [
    "It will show isnull and isna zero but there are empty cell values have value as ' ' "
   ]
  },
  {
   "cell_type": "code",
   "execution_count": 6,
   "metadata": {},
   "outputs": [
    {
     "data": {
      "text/plain": [
       "district    0\n",
       "date        0\n",
       "month       0\n",
       "year        0\n",
       "visitors    0\n",
       "dtype: int64"
      ]
     },
     "execution_count": 6,
     "metadata": {},
     "output_type": "execute_result"
    }
   ],
   "source": [
    "domestic_visitors_2016.isnull().sum()"
   ]
  },
  {
   "cell_type": "code",
   "execution_count": 7,
   "metadata": {},
   "outputs": [
    {
     "data": {
      "text/plain": [
       "district    36\n",
       "date        36\n",
       "month       36\n",
       "year        36\n",
       "visitors    36\n",
       "dtype: int64"
      ]
     },
     "execution_count": 7,
     "metadata": {},
     "output_type": "execute_result"
    }
   ],
   "source": [
    "domestic_visitors_2017 = pd.read_csv('domestic_visitors/domestic_visitors_2017.csv')\n",
    "domestic_visitors_2017.head()\n",
    "domestic_visitors_2017.isnull().sum()\n",
    "domestic_visitors_2017.isna().sum()\n",
    "domestic_visitors_2017[domestic_visitors_2017['visitors'] == ' '].count()"
   ]
  },
  {
   "cell_type": "code",
   "execution_count": 8,
   "metadata": {},
   "outputs": [
    {
     "data": {
      "text/plain": [
       "district     0\n",
       "date         0\n",
       "month        0\n",
       "year         0\n",
       "visitors    12\n",
       "dtype: int64"
      ]
     },
     "execution_count": 8,
     "metadata": {},
     "output_type": "execute_result"
    }
   ],
   "source": [
    "domestic_visitors_2018 = pd.read_csv('domestic_visitors/domestic_visitors_2018.csv')\n",
    "domestic_visitors_2018.head()\n",
    "domestic_visitors_2018.isnull().sum()\n",
    "domestic_visitors_2018.isna().sum()\n"
   ]
  },
  {
   "cell_type": "markdown",
   "metadata": {},
   "source": [
    "To find the null values using is null.\n",
    "select those rows and use fillna() remove or replace null values"
   ]
  },
  {
   "cell_type": "code",
   "execution_count": 9,
   "metadata": {},
   "outputs": [
    {
     "data": {
      "text/plain": [
       "district    0\n",
       "date        0\n",
       "month       0\n",
       "year        0\n",
       "visitors    0\n",
       "dtype: int64"
      ]
     },
     "execution_count": 9,
     "metadata": {},
     "output_type": "execute_result"
    }
   ],
   "source": [
    "null_mask = domestic_visitors_2018.isnull().any(axis = 1)\n",
    "null_mask\n",
    "domestic_visitors_2018[null_mask]\n",
    "domestic_visitors_2018= domestic_visitors_2018.fillna(' ')\n",
    "domestic_visitors_2018.isna().sum()"
   ]
  },
  {
   "cell_type": "code",
   "execution_count": 10,
   "metadata": {},
   "outputs": [
    {
     "data": {
      "text/plain": [
       "district    48\n",
       "date        48\n",
       "month       48\n",
       "year        48\n",
       "visitors    48\n",
       "dtype: int64"
      ]
     },
     "execution_count": 10,
     "metadata": {},
     "output_type": "execute_result"
    }
   ],
   "source": [
    "domestic_visitors_2018[domestic_visitors_2018['visitors'] == ' '].count()"
   ]
  },
  {
   "cell_type": "markdown",
   "metadata": {},
   "source": [
    "Merge all CSV files into one csv"
   ]
  },
  {
   "cell_type": "code",
   "execution_count": 11,
   "metadata": {},
   "outputs": [
    {
     "name": "stdout",
     "output_type": "stream",
     "text": [
      "<class 'pandas.core.frame.DataFrame'>\n",
      "RangeIndex: 1512 entries, 0 to 1511\n",
      "Data columns (total 5 columns):\n",
      " #   Column    Non-Null Count  Dtype \n",
      "---  ------    --------------  ----- \n",
      " 0   district  1512 non-null   object\n",
      " 1   date      1512 non-null   object\n",
      " 2   month     1512 non-null   object\n",
      " 3   year      1512 non-null   int64 \n",
      " 4   visitors  1512 non-null   object\n",
      "dtypes: int64(1), object(4)\n",
      "memory usage: 59.2+ KB\n",
      "None\n",
      "   district        date     month  year visitors\n",
      "0  Adilabad  01-01-2016   January  2016   792136\n",
      "1  Adilabad  01-02-2016  February  2016   937820\n",
      "2  Adilabad  01-03-2016     March  2016   582946\n",
      "3  Adilabad  01-04-2016     April  2016   341948\n",
      "4  Adilabad  01-05-2016       May  2016   252887\n"
     ]
    }
   ],
   "source": [
    "# To combine all csv files from 2016 to 2019 into one file\n",
    "file_paths = glob.glob(\"domestic_visitors/domestic_visitors_*.csv\")\n",
    "df_list = [pd.read_csv(file) for file in file_paths]\n",
    "domestic_visitors = pd.concat(df_list, ignore_index = True)\n",
    "\n",
    "# replace any null or empty values with zero\n",
    "domestic_visitors.replace(\" \", 0, inplace= True)\n",
    "domestic_visitors.fillna(0, inplace = True)\n",
    "\n",
    "#save it as csv file\n",
    "domestic_visitors.to_csv('domestic_visitors.csv', index = False)\n",
    "\n",
    "print(domestic_visitors.info())\n",
    "print(domestic_visitors.head())\n"
   ]
  },
  {
   "cell_type": "markdown",
   "metadata": {},
   "source": [
    "FOREGIN VISITORS DATASETS CLEANING AND MERGING"
   ]
  },
  {
   "cell_type": "code",
   "execution_count": 12,
   "metadata": {},
   "outputs": [
    {
     "data": {
      "text/plain": [
       "district    0\n",
       "date        0\n",
       "month       0\n",
       "year        0\n",
       "visitors    0\n",
       "dtype: int64"
      ]
     },
     "execution_count": 12,
     "metadata": {},
     "output_type": "execute_result"
    }
   ],
   "source": [
    "foreign_visitors_2016 = pd.read_csv('foreign_visitors/foreign_visitors_2016.csv')\n",
    "foreign_visitors_2016.head()\n",
    "foreign_visitors_2016.isna().sum()\n"
   ]
  },
  {
   "cell_type": "code",
   "execution_count": 13,
   "metadata": {},
   "outputs": [
    {
     "data": {
      "text/plain": [
       "district    0\n",
       "date        0\n",
       "month       0\n",
       "year        0\n",
       "visitors    0\n",
       "dtype: int64"
      ]
     },
     "execution_count": 13,
     "metadata": {},
     "output_type": "execute_result"
    }
   ],
   "source": [
    "foreign_visitors_2017 = pd.read_csv('foreign_visitors/foreign_visitors_2017.csv')\n",
    "foreign_visitors_2017.head()\n",
    "foreign_visitors_2017.isna().sum()"
   ]
  },
  {
   "cell_type": "code",
   "execution_count": 14,
   "metadata": {},
   "outputs": [
    {
     "data": {
      "text/plain": [
       "district    0\n",
       "date        0\n",
       "month       0\n",
       "year        0\n",
       "visitors    0\n",
       "dtype: int64"
      ]
     },
     "execution_count": 14,
     "metadata": {},
     "output_type": "execute_result"
    }
   ],
   "source": [
    "foreign_visitors_2018 = pd.read_csv('foreign_visitors/foreign_visitors_2018.csv')\n",
    "foreign_visitors_2018.head()\n",
    "foreign_visitors_2018.isnull().sum()"
   ]
  },
  {
   "cell_type": "code",
   "execution_count": 15,
   "metadata": {},
   "outputs": [
    {
     "data": {
      "text/plain": [
       "district    0\n",
       "date        0\n",
       "month       0\n",
       "year        0\n",
       "visitors    0\n",
       "dtype: int64"
      ]
     },
     "execution_count": 15,
     "metadata": {},
     "output_type": "execute_result"
    }
   ],
   "source": [
    "foreign_visitors_2019 = pd.read_csv('foreign_visitors/foreign_visitors_2019.csv')\n",
    "foreign_visitors_2019.head()\n",
    "foreign_visitors_2019.isna().sum()\n",
    "\n"
   ]
  },
  {
   "cell_type": "code",
   "execution_count": 16,
   "metadata": {},
   "outputs": [
    {
     "name": "stdout",
     "output_type": "stream",
     "text": [
      "<class 'pandas.core.frame.DataFrame'>\n",
      "RangeIndex: 1512 entries, 0 to 1511\n",
      "Data columns (total 5 columns):\n",
      " #   Column    Non-Null Count  Dtype \n",
      "---  ------    --------------  ----- \n",
      " 0   district  1512 non-null   object\n",
      " 1   date      1512 non-null   object\n",
      " 2   month     1512 non-null   object\n",
      " 3   year      1512 non-null   int64 \n",
      " 4   visitors  1512 non-null   object\n",
      "dtypes: int64(1), object(4)\n",
      "memory usage: 59.2+ KB\n",
      "None\n",
      "   district        date     month  year visitors\n",
      "0  Adilabad  01-01-2016   January  2016        2\n",
      "1  Adilabad  01-02-2016  February  2016        0\n",
      "2  Adilabad  01-03-2016     March  2016        2\n",
      "3  Adilabad  01-04-2016     April  2016        0\n",
      "4  Adilabad  01-05-2016       May  2016        0\n"
     ]
    }
   ],
   "source": [
    "file_paths = glob.glob(\"foreign_visitors/foreign_visitors_*.csv\")\n",
    "df_list = [pd.read_csv(file) for file in file_paths]\n",
    "foreign_visitors = pd.concat(df_list, ignore_index = True)\n",
    "\n",
    "# replace nan, empty values as 0\n",
    "foreign_visitors.replace(\" \", 0, inplace= True)\n",
    "#foreign_visitors.fillna(0, inplace = True)\n",
    "\n",
    "#save it as csv\n",
    "foreign_visitors.to_csv('foreign_visitors.csv', index = False)\n",
    "\n",
    "print(foreign_visitors.info())\n",
    "print(foreign_visitors.head())"
   ]
  }
 ],
 "metadata": {
  "kernelspec": {
   "display_name": "Python 3",
   "language": "python",
   "name": "python3"
  },
  "language_info": {
   "codemirror_mode": {
    "name": "ipython",
    "version": 3
   },
   "file_extension": ".py",
   "mimetype": "text/x-python",
   "name": "python",
   "nbconvert_exporter": "python",
   "pygments_lexer": "ipython3",
   "version": "3.12.4"
  }
 },
 "nbformat": 4,
 "nbformat_minor": 2
}
